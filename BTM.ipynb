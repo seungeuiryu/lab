{
  "nbformat": 4,
  "nbformat_minor": 0,
  "metadata": {
    "colab": {
      "name": "BTM.ipynb",
      "private_outputs": true,
      "provenance": [],
      "collapsed_sections": [],
      "authorship_tag": "ABX9TyOTRlcc/Mr31RQuDuXNyTm9",
      "include_colab_link": true
    },
    "kernelspec": {
      "name": "python3",
      "display_name": "Python 3"
    },
    "language_info": {
      "name": "python"
    }
  },
  "cells": [
    {
      "cell_type": "markdown",
      "metadata": {
        "id": "view-in-github",
        "colab_type": "text"
      },
      "source": [
        "<a href=\"https://colab.research.google.com/github/xiu0327/lab/blob/main/BTM.ipynb\" target=\"_parent\"><img src=\"https://colab.research.google.com/assets/colab-badge.svg\" alt=\"Open In Colab\"/></a>"
      ]
    },
    {
      "cell_type": "code",
      "metadata": {
        "id": "XX93VAsDIGq8"
      },
      "source": [
        "pip install bitermplus"
      ],
      "execution_count": null,
      "outputs": []
    },
    {
      "cell_type": "code",
      "metadata": {
        "id": "rDS_SDHCIoXq"
      },
      "source": [
        "pip install pyLDAvis"
      ],
      "execution_count": null,
      "outputs": []
    },
    {
      "cell_type": "code",
      "metadata": {
        "id": "NZr6LVHEI3US"
      },
      "source": [
        "pip install tmplot"
      ],
      "execution_count": null,
      "outputs": []
    },
    {
      "cell_type": "code",
      "metadata": {
        "id": "tjz0YCxTIW2-"
      },
      "source": [
        "import bitermplus as btm\n",
        "import numpy as np\n",
        "import pandas as pd\n",
        "import csv\n",
        "from tqdm import tqdm\n",
        "import logging\n",
        "from gensim import corpora\n",
        "from gensim.models import TfidfModel, LdaMulticore\n",
        "from gensim.models.coherencemodel import CoherenceModel\n",
        "import matplotlib.pyplot as plt\n",
        "import pyLDAvis\n",
        "import pyLDAvis.gensim_models as gensimvis\n",
        "import tmplot as tmp\n",
        "\n",
        "\n",
        "# Importing data\n",
        "texts = []\n",
        "with open('/content/mecab_사용_O.txt', 'r', encoding='utf-8') as f:\n",
        "    for line in f:\n",
        "        line = line.replace('\\n', '')\n",
        "        texts.append(line.replace('@', ' '))\n",
        "print(texts)       \n",
        "#texts = [' '.join(row) for row in csv.reader(file)]"
      ],
      "execution_count": null,
      "outputs": []
    },
    {
      "cell_type": "code",
      "metadata": {
        "id": "UVnNUjU-JGdY"
      },
      "source": [
        "#btm model#\n",
        "X,vocabulary, vocab_dict = btm.get_words_freqs(texts)"
      ],
      "execution_count": null,
      "outputs": []
    },
    {
      "cell_type": "code",
      "metadata": {
        "id": "X-oKC3t9JIi_"
      },
      "source": [
        "vocabulary"
      ],
      "execution_count": null,
      "outputs": []
    },
    {
      "cell_type": "code",
      "metadata": {
        "id": "tkNWwahjJLhV"
      },
      "source": [
        "vocab_dict"
      ],
      "execution_count": null,
      "outputs": []
    },
    {
      "cell_type": "code",
      "metadata": {
        "id": "6d-4xrPyJQYY"
      },
      "source": [
        "docs_vec = btm.get_vectorized_docs(texts,vocabulary)\n",
        "docs_vec"
      ],
      "execution_count": null,
      "outputs": []
    },
    {
      "cell_type": "code",
      "metadata": {
        "id": "rpo_OBMSJUGD"
      },
      "source": [
        "biterms = btm.get_biterms(docs_vec)\n",
        "biterms"
      ],
      "execution_count": null,
      "outputs": []
    },
    {
      "cell_type": "code",
      "metadata": {
        "id": "AyT2oeAfJXbb"
      },
      "source": [
        "#btm model#\n",
        "X,vocabulary, vocab_dict = btm.get_words_freqs(texts)\n",
        "docs_vec = btm.get_vectorized_docs(texts,vocabulary)\n",
        "biterms = btm.get_biterms(docs_vec)\n",
        "model = btm.BTM(X,vocabulary,seed=12321,T=8,M=2,alpha=50/8,beta=0.01) #T => Topic 수\n",
        "model.fit(biterms,iterations=200)\n",
        "p_zd = model.transform(docs_vec)\n",
        "perplexity = btm.perplexity(model.matrix_topics_words_,p_zd,X,8)\n",
        "coherence = btm.coherence(model.matrix_topics_words_,X,M=20)\n",
        "perplexity = model.perplexity_\n",
        "coherence = model.coherence_\n",
        "#btm model#\n",
        "\n",
        "print(perplexity)\n",
        "print(coherence)"
      ],
      "execution_count": null,
      "outputs": []
    },
    {
      "cell_type": "code",
      "metadata": {
        "id": "DVX_7OWtJeE8"
      },
      "source": [
        "tmp.report(model=model,docs=texts)"
      ],
      "execution_count": null,
      "outputs": []
    }
  ]
}